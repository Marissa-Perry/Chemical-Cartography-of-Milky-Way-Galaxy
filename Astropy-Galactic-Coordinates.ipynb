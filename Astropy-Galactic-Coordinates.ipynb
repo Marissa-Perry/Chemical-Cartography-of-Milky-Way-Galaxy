{
 "cells": [
  {
   "cell_type": "code",
   "execution_count": 12,
   "id": "278a52cb",
   "metadata": {},
   "outputs": [],
   "source": [
    "import numpy as np\n",
    "import math\n",
    "from math import *\n",
    "from math import cos, sin, pi\n",
    "from astropy.table import Table\n",
    "import astropy.coordinates as coord\n",
    "from astropy.coordinates import SkyCoord\n",
    "import astropy.units as u"
   ]
  },
  {
   "cell_type": "markdown",
   "id": "dd546827",
   "metadata": {},
   "source": [
    "## Importing LAMOST dataset and performing data cut\n",
    "### Data cut eliminates high error metallicity stars"
   ]
  },
  {
   "cell_type": "code",
   "execution_count": 23,
   "id": "8bb7cbd0",
   "metadata": {
    "scrolled": true
   },
   "outputs": [
    {
     "data": {
      "text/html": [
       "<i>Table length=3</i>\n",
       "<table id=\"table2917591625792-415299\" class=\"table-striped table-bordered table-condensed\">\n",
       "<thead><tr><th>idx</th><th>SPECID</th><th>RA</th><th>DEC</th><th>SNR_G</th><th>TEFF</th><th>TEFF_ERR</th><th>LOGG</th><th>LOGG_ERR</th><th>FEH</th><th>FEH_ERR</th><th>VSINI</th><th>VSINI_ERR</th><th>SIH</th><th>SIH_ERR</th><th>CORR_TEFF_LOGG</th><th>CORR_TEFF_FEH</th><th>CORR_LOGG_FEH</th><th>CORR_VSINI_TEFF</th><th>CORR_VSINI_LOGG</th><th>CORR_VSINI_FEH</th><th>CORR_SIH_TEFF</th><th>CORR_SIH_LOGG</th><th>CORR_SIH_FEH</th><th>CORR_SIH_VSINI</th><th>CHISQ_RED</th><th>RV</th><th>RV_ERR</th><th>CHI2RATIO</th><th>UNIQFLAG</th><th>STAR_ID</th><th>SOURCE_DR6OBA</th><th>SOURCE_ZARI21</th><th>SOURCE_LIU19</th><th>GAIA_ID</th><th>PARALLAX</th><th>PARALLAX_ERROR</th><th>PMRA</th><th>PMRA_ERROR</th><th>PMDEC</th><th>PMDEC_ERROR</th><th>RUWE</th><th>RGEO</th><th>RGEO_LOW</th><th>RGEO_HIGH</th><th>FIDELITY</th><th>EBV_BAYES19</th><th>EBV_PAIR</th><th>EBV_PAIR_ERR</th><th>G</th><th>G_ERR</th><th>BP</th><th>BP_ERR</th><th>RP</th><th>RP_ERR</th><th>J</th><th>J_ERR</th><th>H</th><th>H_ERR</th><th>K</th><th>K_ERR</th><th>QUAL_2MASS</th><th>W1</th><th>W1_ERR</th><th>W2</th><th>W2_ERR</th><th>W3</th><th>W3_ERR</th><th>W4</th><th>W4_ERR</th><th>QUAL_WISE</th><th>VAR_WISE</th></tr></thead>\n",
       "<tr><td>0</td><td>20141006-HD000240N512820V01-05-032</td><td>0.008644</td><td>50.380315</td><td>32.52</td><td>7000.825</td><td>56.567295</td><td>3.5988805</td><td>0.16558774</td><td>-0.7808218</td><td>0.08491946</td><td>0.0</td><td>31.268276</td><td>-1.1532849</td><td>0.39907905</td><td>0.64194036</td><td>0.35973993</td><td>0.42463163</td><td>0.0042775935</td><td>-0.086010486</td><td>0.1284462</td><td>-0.074457645</td><td>0.2056027</td><td>0.030207738</td><td>0.006783118</td><td>0.37322357</td><td>-73.85109</td><td>11.34786</td><td>-0.8797635</td><td>1</td><td>S0000031+502249</td><td>0</td><td>1</td><td>0</td><td>393923478296659200</td><td>0.8138</td><td>0.0264</td><td>0.856</td><td>0.02</td><td>-3.896</td><td>0.021</td><td>2.206</td><td>1187.6152</td><td>1147.732</td><td>1226.4692</td><td>1.0</td><td>0.099999994</td><td>0.09379641</td><td>0.007852197</td><td>13.408332</td><td>0.002764</td><td>13.623913</td><td>0.002833</td><td>13.046533</td><td>0.003812</td><td>12.635</td><td>0.021</td><td>12.49</td><td>0.024</td><td>12.419</td><td>0.021</td><td>AAA</td><td>12.408</td><td>0.024</td><td>12.388</td><td>0.023</td><td>12.832</td><td>0.406</td><td>9.409</td><td>--</td><td>AACU</td><td>11nn</td></tr>\n",
       "<tr><td>1</td><td>20141120-HD000408N565515V01-05-205</td><td>0.011984</td><td>55.573492</td><td>138.09</td><td>8195.986</td><td>67.18285</td><td>4.286411</td><td>0.07738135</td><td>-0.23935288</td><td>0.06281832</td><td>113.18152</td><td>13.3356905</td><td>-0.3549302</td><td>0.19153857</td><td>0.5582605</td><td>0.25801843</td><td>0.30068493</td><td>-0.049963403</td><td>-0.04633221</td><td>0.16752137</td><td>-0.26730415</td><td>0.08527673</td><td>0.0018463144</td><td>0.09218847</td><td>1.3168412</td><td>-37.46592</td><td>7.93548</td><td>-0.3362868</td><td>1</td><td>S0000043+553424</td><td>1</td><td>0</td><td>0</td><td>420512590034739840</td><td>0.8102</td><td>0.0108</td><td>2.37</td><td>0.01</td><td>-1.563</td><td>0.01</td><td>0.913</td><td>1199.9862</td><td>1183.0111</td><td>1215.7633</td><td>1.0</td><td>0.24</td><td>0.22446516</td><td>0.0068513607</td><td>12.558661</td><td>0.002764</td><td>12.755963</td><td>0.002847</td><td>12.227694</td><td>0.003798</td><td>11.858</td><td>0.026</td><td>11.659</td><td>0.03</td><td>11.603</td><td>0.028</td><td>AAA</td><td>11.547</td><td>0.022</td><td>11.566</td><td>0.022</td><td>11.573</td><td>0.147</td><td>9.055</td><td>--</td><td>AABU</td><td>11nn</td></tr>\n",
       "<tr><td>2</td><td>20141120-HD000408N565515V01-15-077</td><td>0.012862</td><td>58.019821</td><td>142.34</td><td>7336.894</td><td>28.86099</td><td>3.8655243</td><td>0.07986626</td><td>-0.020987807</td><td>0.044880167</td><td>149.27896</td><td>12.090151</td><td>-0.49237016</td><td>0.16622198</td><td>0.57557464</td><td>0.32621616</td><td>0.45977342</td><td>-0.0387842</td><td>-0.07371283</td><td>0.15799765</td><td>-0.17650217</td><td>0.13757297</td><td>0.012623649</td><td>0.069540106</td><td>2.887993</td><td>-12.158401</td><td>7.00485</td><td>-0.17520843</td><td>1</td><td>S0000046+580111</td><td>0</td><td>1</td><td>0</td><td>422632272352729984</td><td>1.3375</td><td>0.0095</td><td>-4.037</td><td>0.009</td><td>-4.133</td><td>0.009</td><td>0.839</td><td>733.7672</td><td>728.35486</td><td>738.26385</td><td>1.0</td><td>0.34622338</td><td>0.33684897</td><td>0.0065730405</td><td>12.121007</td><td>0.002765</td><td>12.461967</td><td>0.00291</td><td>11.608762</td><td>0.003828</td><td>10.998</td><td>0.024</td><td>10.778</td><td>0.03</td><td>10.697</td><td>0.022</td><td>AAA</td><td>10.653</td><td>0.022</td><td>10.66</td><td>0.02</td><td>10.945</td><td>0.081</td><td>9.428</td><td>--</td><td>AAAU</td><td>000n</td></tr>\n",
       "</table><style>table.dataTable {clear: both; width: auto !important; margin: 0 !important;}\n",
       ".dataTables_info, .dataTables_length, .dataTables_filter, .dataTables_paginate{\n",
       "display: inline-block; margin-right: 1em; }\n",
       ".paginate_button { margin-right: 5px; }\n",
       "</style>\n",
       "<script>\n",
       "\n",
       "var astropy_sort_num = function(a, b) {\n",
       "    var a_num = parseFloat(a);\n",
       "    var b_num = parseFloat(b);\n",
       "\n",
       "    if (isNaN(a_num) && isNaN(b_num))\n",
       "        return ((a < b) ? -1 : ((a > b) ? 1 : 0));\n",
       "    else if (!isNaN(a_num) && !isNaN(b_num))\n",
       "        return ((a_num < b_num) ? -1 : ((a_num > b_num) ? 1 : 0));\n",
       "    else\n",
       "        return isNaN(a_num) ? -1 : 1;\n",
       "}\n",
       "\n",
       "require.config({paths: {\n",
       "    datatables: 'https://cdn.datatables.net/1.10.12/js/jquery.dataTables.min'\n",
       "}});\n",
       "require([\"datatables\"], function(){\n",
       "    console.log(\"$('#table2917591625792-415299').dataTable()\");\n",
       "    \n",
       "jQuery.extend( jQuery.fn.dataTableExt.oSort, {\n",
       "    \"optionalnum-asc\": astropy_sort_num,\n",
       "    \"optionalnum-desc\": function (a,b) { return -astropy_sort_num(a, b); }\n",
       "});\n",
       "\n",
       "    $('#table2917591625792-415299').dataTable({\n",
       "        order: [],\n",
       "        pageLength: 50,\n",
       "        lengthMenu: [[10, 25, 50, 100, 500, 1000, -1], [10, 25, 50, 100, 500, 1000, 'All']],\n",
       "        pagingType: \"full_numbers\",\n",
       "        columnDefs: [{targets: [0, 2, 3, 4, 5, 6, 7, 8, 9, 10, 11, 12, 13, 14, 15, 16, 17, 18, 19, 20, 21, 22, 23, 24, 25, 26, 27, 28, 29, 31, 32, 33, 34, 35, 36, 37, 38, 39, 40, 41, 42, 43, 44, 45, 46, 47, 48, 49, 50, 51, 52, 53, 54, 55, 56, 57, 58, 59, 60, 62, 63, 64, 65, 66, 67, 68, 69], type: \"optionalnum\"}]\n",
       "    });\n",
       "});\n",
       "</script>\n"
      ],
      "text/plain": [
       "<IPython.core.display.HTML object>"
      ]
     },
     "execution_count": 23,
     "metadata": {},
     "output_type": "execute_result"
    }
   ],
   "source": [
    "Dataset = Table.read('Hotpayne_LMDR6_OBstars.fits')\n",
    "Dataset[0:3].show_in_notebook()"
   ]
  },
  {
   "cell_type": "code",
   "execution_count": 22,
   "id": "903968d7",
   "metadata": {},
   "outputs": [
    {
     "data": {
      "text/html": [
       "<i>Table length=3</i>\n",
       "<table id=\"table2917592076000-217000\" class=\"table-striped table-bordered table-condensed\">\n",
       "<thead><tr><th>idx</th><th>SPECID</th><th>RA</th><th>DEC</th><th>SNR_G</th><th>TEFF</th><th>TEFF_ERR</th><th>LOGG</th><th>LOGG_ERR</th><th>FEH</th><th>FEH_ERR</th><th>VSINI</th><th>VSINI_ERR</th><th>SIH</th><th>SIH_ERR</th><th>CORR_TEFF_LOGG</th><th>CORR_TEFF_FEH</th><th>CORR_LOGG_FEH</th><th>CORR_VSINI_TEFF</th><th>CORR_VSINI_LOGG</th><th>CORR_VSINI_FEH</th><th>CORR_SIH_TEFF</th><th>CORR_SIH_LOGG</th><th>CORR_SIH_FEH</th><th>CORR_SIH_VSINI</th><th>CHISQ_RED</th><th>RV</th><th>RV_ERR</th><th>CHI2RATIO</th><th>UNIQFLAG</th><th>STAR_ID</th><th>SOURCE_DR6OBA</th><th>SOURCE_ZARI21</th><th>SOURCE_LIU19</th><th>GAIA_ID</th><th>PARALLAX</th><th>PARALLAX_ERROR</th><th>PMRA</th><th>PMRA_ERROR</th><th>PMDEC</th><th>PMDEC_ERROR</th><th>RUWE</th><th>RGEO</th><th>RGEO_LOW</th><th>RGEO_HIGH</th><th>FIDELITY</th><th>EBV_BAYES19</th><th>EBV_PAIR</th><th>EBV_PAIR_ERR</th><th>G</th><th>G_ERR</th><th>BP</th><th>BP_ERR</th><th>RP</th><th>RP_ERR</th><th>J</th><th>J_ERR</th><th>H</th><th>H_ERR</th><th>K</th><th>K_ERR</th><th>QUAL_2MASS</th><th>W1</th><th>W1_ERR</th><th>W2</th><th>W2_ERR</th><th>W3</th><th>W3_ERR</th><th>W4</th><th>W4_ERR</th><th>QUAL_WISE</th><th>VAR_WISE</th></tr></thead>\n",
       "<tr><td>0</td><td>20141006-HD000240N512820V01-05-032</td><td>0.008644</td><td>50.380315</td><td>32.52</td><td>7000.825</td><td>56.567295</td><td>3.5988805</td><td>0.16558774</td><td>-0.7808218</td><td>0.08491946</td><td>0.0</td><td>31.268276</td><td>-1.1532849</td><td>0.39907905</td><td>0.64194036</td><td>0.35973993</td><td>0.42463163</td><td>0.0042775935</td><td>-0.086010486</td><td>0.1284462</td><td>-0.074457645</td><td>0.2056027</td><td>0.030207738</td><td>0.006783118</td><td>0.37322357</td><td>-73.85109</td><td>11.34786</td><td>-0.8797635</td><td>1</td><td>S0000031+502249</td><td>0</td><td>1</td><td>0</td><td>393923478296659200</td><td>0.8138</td><td>0.0264</td><td>0.856</td><td>0.02</td><td>-3.896</td><td>0.021</td><td>2.206</td><td>1187.6152</td><td>1147.732</td><td>1226.4692</td><td>1.0</td><td>0.099999994</td><td>0.09379641</td><td>0.007852197</td><td>13.408332</td><td>0.002764</td><td>13.623913</td><td>0.002833</td><td>13.046533</td><td>0.003812</td><td>12.635</td><td>0.021</td><td>12.49</td><td>0.024</td><td>12.419</td><td>0.021</td><td>AAA</td><td>12.408</td><td>0.024</td><td>12.388</td><td>0.023</td><td>12.832</td><td>0.406</td><td>9.409</td><td>--</td><td>AACU</td><td>11nn</td></tr>\n",
       "<tr><td>1</td><td>20141120-HD000408N565515V01-05-205</td><td>0.011984</td><td>55.573492</td><td>138.09</td><td>8195.986</td><td>67.18285</td><td>4.286411</td><td>0.07738135</td><td>-0.23935288</td><td>0.06281832</td><td>113.18152</td><td>13.3356905</td><td>-0.3549302</td><td>0.19153857</td><td>0.5582605</td><td>0.25801843</td><td>0.30068493</td><td>-0.049963403</td><td>-0.04633221</td><td>0.16752137</td><td>-0.26730415</td><td>0.08527673</td><td>0.0018463144</td><td>0.09218847</td><td>1.3168412</td><td>-37.46592</td><td>7.93548</td><td>-0.3362868</td><td>1</td><td>S0000043+553424</td><td>1</td><td>0</td><td>0</td><td>420512590034739840</td><td>0.8102</td><td>0.0108</td><td>2.37</td><td>0.01</td><td>-1.563</td><td>0.01</td><td>0.913</td><td>1199.9862</td><td>1183.0111</td><td>1215.7633</td><td>1.0</td><td>0.24</td><td>0.22446516</td><td>0.0068513607</td><td>12.558661</td><td>0.002764</td><td>12.755963</td><td>0.002847</td><td>12.227694</td><td>0.003798</td><td>11.858</td><td>0.026</td><td>11.659</td><td>0.03</td><td>11.603</td><td>0.028</td><td>AAA</td><td>11.547</td><td>0.022</td><td>11.566</td><td>0.022</td><td>11.573</td><td>0.147</td><td>9.055</td><td>--</td><td>AABU</td><td>11nn</td></tr>\n",
       "<tr><td>2</td><td>20141120-HD000408N565515V01-15-077</td><td>0.012862</td><td>58.019821</td><td>142.34</td><td>7336.894</td><td>28.86099</td><td>3.8655243</td><td>0.07986626</td><td>-0.020987807</td><td>0.044880167</td><td>149.27896</td><td>12.090151</td><td>-0.49237016</td><td>0.16622198</td><td>0.57557464</td><td>0.32621616</td><td>0.45977342</td><td>-0.0387842</td><td>-0.07371283</td><td>0.15799765</td><td>-0.17650217</td><td>0.13757297</td><td>0.012623649</td><td>0.069540106</td><td>2.887993</td><td>-12.158401</td><td>7.00485</td><td>-0.17520843</td><td>1</td><td>S0000046+580111</td><td>0</td><td>1</td><td>0</td><td>422632272352729984</td><td>1.3375</td><td>0.0095</td><td>-4.037</td><td>0.009</td><td>-4.133</td><td>0.009</td><td>0.839</td><td>733.7672</td><td>728.35486</td><td>738.26385</td><td>1.0</td><td>0.34622338</td><td>0.33684897</td><td>0.0065730405</td><td>12.121007</td><td>0.002765</td><td>12.461967</td><td>0.00291</td><td>11.608762</td><td>0.003828</td><td>10.998</td><td>0.024</td><td>10.778</td><td>0.03</td><td>10.697</td><td>0.022</td><td>AAA</td><td>10.653</td><td>0.022</td><td>10.66</td><td>0.02</td><td>10.945</td><td>0.081</td><td>9.428</td><td>--</td><td>AAAU</td><td>000n</td></tr>\n",
       "</table><style>table.dataTable {clear: both; width: auto !important; margin: 0 !important;}\n",
       ".dataTables_info, .dataTables_length, .dataTables_filter, .dataTables_paginate{\n",
       "display: inline-block; margin-right: 1em; }\n",
       ".paginate_button { margin-right: 5px; }\n",
       "</style>\n",
       "<script>\n",
       "\n",
       "var astropy_sort_num = function(a, b) {\n",
       "    var a_num = parseFloat(a);\n",
       "    var b_num = parseFloat(b);\n",
       "\n",
       "    if (isNaN(a_num) && isNaN(b_num))\n",
       "        return ((a < b) ? -1 : ((a > b) ? 1 : 0));\n",
       "    else if (!isNaN(a_num) && !isNaN(b_num))\n",
       "        return ((a_num < b_num) ? -1 : ((a_num > b_num) ? 1 : 0));\n",
       "    else\n",
       "        return isNaN(a_num) ? -1 : 1;\n",
       "}\n",
       "\n",
       "require.config({paths: {\n",
       "    datatables: 'https://cdn.datatables.net/1.10.12/js/jquery.dataTables.min'\n",
       "}});\n",
       "require([\"datatables\"], function(){\n",
       "    console.log(\"$('#table2917592076000-217000').dataTable()\");\n",
       "    \n",
       "jQuery.extend( jQuery.fn.dataTableExt.oSort, {\n",
       "    \"optionalnum-asc\": astropy_sort_num,\n",
       "    \"optionalnum-desc\": function (a,b) { return -astropy_sort_num(a, b); }\n",
       "});\n",
       "\n",
       "    $('#table2917592076000-217000').dataTable({\n",
       "        order: [],\n",
       "        pageLength: 50,\n",
       "        lengthMenu: [[10, 25, 50, 100, 500, 1000, -1], [10, 25, 50, 100, 500, 1000, 'All']],\n",
       "        pagingType: \"full_numbers\",\n",
       "        columnDefs: [{targets: [0, 2, 3, 4, 5, 6, 7, 8, 9, 10, 11, 12, 13, 14, 15, 16, 17, 18, 19, 20, 21, 22, 23, 24, 25, 26, 27, 28, 29, 31, 32, 33, 34, 35, 36, 37, 38, 39, 40, 41, 42, 43, 44, 45, 46, 47, 48, 49, 50, 51, 52, 53, 54, 55, 56, 57, 58, 59, 60, 62, 63, 64, 65, 66, 67, 68, 69], type: \"optionalnum\"}]\n",
       "    });\n",
       "});\n",
       "</script>\n"
      ],
      "text/plain": [
       "<IPython.core.display.HTML object>"
      ]
     },
     "execution_count": 22,
     "metadata": {},
     "output_type": "execute_result"
    }
   ],
   "source": [
    "cut = np.where((Dataset['FEH_ERR'] < 0.2))[0]\n",
    "OB_Stars = Dataset[cut]\n",
    "\n",
    "OB_Stars[0:3].show_in_notebook()"
   ]
  },
  {
   "cell_type": "code",
   "execution_count": 24,
   "id": "ae8dad79",
   "metadata": {},
   "outputs": [
    {
     "name": "stdout",
     "output_type": "stream",
     "text": [
      "Original Dataset: 454693\n",
      "Cut Dataset: 288123\n"
     ]
    }
   ],
   "source": [
    "print('Original Dataset: ' + str(len(Dataset)), 'Cut Dataset: ' + str(len(OB_Stars)), sep='\\n')"
   ]
  },
  {
   "cell_type": "markdown",
   "id": "77d69205",
   "metadata": {},
   "source": [
    "## Computing Galactic Coordinates using Astropy \n",
    "### Using each star's RA, DEC, and Distance from us"
   ]
  },
  {
   "cell_type": "code",
   "execution_count": 14,
   "id": "2bed4d17",
   "metadata": {},
   "outputs": [],
   "source": [
    "RA = OB_Stars['RA']\n",
    "DEC = OB_Stars['DEC']\n",
    "dist = OB_Stars['RGEO']\n",
    "\n",
    "icrs_gal = coord.SkyCoord(RA * u.deg, DEC * u.deg, frame = 'icrs')\n",
    "gal_coords = icrs_gal.galactic\n",
    "gal_l = (math.pi/180) * gal_coords.l.value # Longitude \n",
    "gal_b = (math.pi/180) * gal_coords.b.value # Latitude\n",
    "\n",
    "X = dist * np.cos(gal_b) * np.cos(gal_l) / 1000\n",
    "Y = dist * np.cos(gal_b) * np.sin(gal_l) / 1000\n",
    "Z = dist * np.sin(gal_b) / 1000"
   ]
  }
 ],
 "metadata": {
  "kernelspec": {
   "display_name": "Python 3 (ipykernel)",
   "language": "python",
   "name": "python3"
  },
  "language_info": {
   "codemirror_mode": {
    "name": "ipython",
    "version": 3
   },
   "file_extension": ".py",
   "mimetype": "text/x-python",
   "name": "python",
   "nbconvert_exporter": "python",
   "pygments_lexer": "ipython3",
   "version": "3.9.7"
  }
 },
 "nbformat": 4,
 "nbformat_minor": 5
}
